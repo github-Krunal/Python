{
 "cells": [
  {
   "cell_type": "code",
   "execution_count": 3,
   "metadata": {},
   "outputs": [
    {
     "name": "stdout",
     "output_type": "stream",
     "text": [
      "2.2.2\n"
     ]
    }
   ],
   "source": [
    "import pandas as pd\n",
    "print(pd.__version__)"
   ]
  },
  {
   "cell_type": "code",
   "execution_count": 7,
   "metadata": {},
   "outputs": [
    {
     "name": "stdout",
     "output_type": "stream",
     "text": [
      "<class 'pandas.core.series.Series'>\n"
     ]
    }
   ],
   "source": [
    "data=[12,2,3,4,5]\n",
    "series=pd.Series(data)\n",
    "print(type(series))"
   ]
  },
  {
   "cell_type": "code",
   "execution_count": 9,
   "metadata": {},
   "outputs": [
    {
     "name": "stdout",
     "output_type": "stream",
     "text": [
      "a    1\n",
      "b    2\n",
      "c    3\n",
      "dtype: int64\n"
     ]
    }
   ],
   "source": [
    "# create series from dictories\n",
    "dis={'a':1,'b':2,'c':3}\n",
    "series_dis=pd.Series(dis)\n",
    "print(series_dis)"
   ]
  },
  {
   "cell_type": "code",
   "execution_count": 10,
   "metadata": {},
   "outputs": [
    {
     "data": {
      "text/plain": [
       "a    10\n",
       "b    20\n",
       "c    30\n",
       "dtype: int64"
      ]
     },
     "execution_count": 10,
     "metadata": {},
     "output_type": "execute_result"
    }
   ],
   "source": [
    "data=[10,20,30]\n",
    "index=['a','b','c']\n",
    "pd.Series(data,index=index)"
   ]
  },
  {
   "cell_type": "code",
   "execution_count": 12,
   "metadata": {},
   "outputs": [
    {
     "name": "stdout",
     "output_type": "stream",
     "text": [
      "     Name  Age    City\n",
      "0  krunal   25  Nagpur\n",
      "1    John   30  Mumbai\n",
      "2    Jack   35    Pune\n",
      "<class 'pandas.core.frame.DataFrame'>\n"
     ]
    }
   ],
   "source": [
    "#dataframes\n",
    "data={\n",
    "    \"Name\":[\"krunal\",\"John\",\"Jack\"],\n",
    "    \"Age\":[25,30,35],\n",
    "    \"City\":[\"Nagpur\",\"Mumbai\",\"Pune\"]\n",
    "    \n",
    "}\n",
    "df=pd.DataFrame(data)\n",
    "print(df)\n",
    "print(type(df))"
   ]
  },
  {
   "cell_type": "code",
   "execution_count": 14,
   "metadata": {},
   "outputs": [
    {
     "name": "stdout",
     "output_type": "stream",
     "text": [
      "     Name  Age    City\n",
      "0  krunal   35  Nagpur\n",
      "1    John   25  Mumbai\n",
      "2    Jack   15    Pune\n"
     ]
    }
   ],
   "source": [
    "#create dataframe from dictories\n",
    "data=[\n",
    "    {\"Name\":\"krunal\",\"Age\":35,\"City\":\"Nagpur\"},\n",
    "    {\"Name\":\"John\",\"Age\":25,\"City\":\"Mumbai\"},\n",
    "    {\"Name\":\"Jack\",\"Age\":15,\"City\":\"Pune\"}, \n",
    "]\n",
    "df=pd.DataFrame(data)\n",
    "print(df)"
   ]
  },
  {
   "cell_type": "code",
   "execution_count": 20,
   "metadata": {},
   "outputs": [
    {
     "data": {
      "text/plain": [
       "0           Headphones\n",
       "1              T-Shirt\n",
       "2            Microwave\n",
       "3            Microwave\n",
       "4      Washing Machine\n",
       "            ...       \n",
       "995    Washing Machine\n",
       "996         Headphones\n",
       "997          Microwave\n",
       "998              Shoes\n",
       "999         Smartphone\n",
       "Name: Product, Length: 1000, dtype: object"
      ]
     },
     "execution_count": 20,
     "metadata": {},
     "output_type": "execute_result"
    }
   ],
   "source": [
    "df=pd.read_csv('sales.csv')\n",
    "df.head(5)\n",
    "df.tail(5)\n",
    "\n",
    "df['Product']"
   ]
  },
  {
   "cell_type": "code",
   "execution_count": 24,
   "metadata": {},
   "outputs": [
    {
     "data": {
      "text/plain": [
       "OrderID                 1001\n",
       "Date              2025-01-07\n",
       "CustomerID              C436\n",
       "Product           Headphones\n",
       "Category         Electronics\n",
       "Quantity                   5\n",
       "Price                   1500\n",
       "Total                   7500\n",
       "PaymentMethod    Credit Card\n",
       "Country               Canada\n",
       "Name: 0, dtype: object"
      ]
     },
     "execution_count": 24,
     "metadata": {},
     "output_type": "execute_result"
    }
   ],
   "source": [
    "df=pd.read_csv('sales.csv')\n",
    "df.loc[0]"
   ]
  },
  {
   "cell_type": "code",
   "execution_count": 34,
   "metadata": {},
   "outputs": [
    {
     "name": "stdout",
     "output_type": "stream",
     "text": [
      "     Name  Age    City\n",
      "0  krunal   35  Nagpur\n",
      "1    John   25  Mumbai\n",
      "2    Jack   15    Pune\n"
     ]
    }
   ],
   "source": [
    "data=[\n",
    "    {\"Name\":\"krunal\",\"Age\":35,\"City\":\"Nagpur\"},\n",
    "    {\"Name\":\"John\",\"Age\":25,\"City\":\"Mumbai\"},\n",
    "    {\"Name\":\"Jack\",\"Age\":15,\"City\":\"Pune\"}, \n",
    "]\n",
    "df=pd.DataFrame(data)\n",
    "df['Salary']=[1,2,3]\n",
    "df.drop('Salary',axis=1,inplace=True)\n",
    "print(df)"
   ]
  }
 ],
 "metadata": {
  "kernelspec": {
   "display_name": "Python 3.12.7 ('base')",
   "language": "python",
   "name": "python3"
  },
  "language_info": {
   "codemirror_mode": {
    "name": "ipython",
    "version": 3
   },
   "file_extension": ".py",
   "mimetype": "text/x-python",
   "name": "python",
   "nbconvert_exporter": "python",
   "pygments_lexer": "ipython3",
   "version": "3.12.7"
  },
  "orig_nbformat": 4,
  "vscode": {
   "interpreter": {
    "hash": "b624f74f225ed9d801ffe4bafedc7174f1a29a3e932f7dc774fd45e54fc67fd2"
   }
  }
 },
 "nbformat": 4,
 "nbformat_minor": 2
}
