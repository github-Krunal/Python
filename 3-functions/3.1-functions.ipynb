{
 "cells": [
  {
   "cell_type": "code",
   "execution_count": null,
   "metadata": {},
   "outputs": [],
   "source": [
    "## function syntax\n",
    "def function_name(parameter)\n",
    "    ##function body\n",
    "    return expression"
   ]
  },
  {
   "cell_type": "code",
   "execution_count": 5,
   "metadata": {},
   "outputs": [
    {
     "name": "stdout",
     "output_type": "stream",
     "text": [
      "number is odd\n"
     ]
    }
   ],
   "source": [
    "##even or odd function\n",
    "def even_or_odd(num):\n",
    "    \"\"\"THIS FUNCTION FIND EVEN OR ODD\"\"\"\n",
    "    if num%2==0:\n",
    "        print(\"number is even\")\n",
    "    else:\n",
    "        print(\"number is odd\")\n",
    "        \n",
    "even_or_odd(23)\n"
   ]
  },
  {
   "cell_type": "code",
   "execution_count": 11,
   "metadata": {},
   "outputs": [
    {
     "name": "stdout",
     "output_type": "stream",
     "text": [
      "11\n"
     ]
    }
   ],
   "source": [
    "## function with multiple parameter\n",
    "def add(a,b):\n",
    "    return a+b\n",
    " \n",
    "result=add(5,6)\n",
    "print(result)"
   ]
  },
  {
   "cell_type": "code",
   "execution_count": 14,
   "metadata": {},
   "outputs": [
    {
     "name": "stdout",
     "output_type": "stream",
     "text": [
      "hello krunal welcome to python\n"
     ]
    }
   ],
   "source": [
    "## default parameter\n",
    "\n",
    "def greet(name=\"krunal\"):\n",
    "    print(f\"hello {name} welcome to python\")\n",
    "    \n",
    "greet()"
   ]
  },
  {
   "cell_type": "code",
   "execution_count": 15,
   "metadata": {},
   "outputs": [
    {
     "name": "stdout",
     "output_type": "stream",
     "text": [
      "1\n",
      "2\n",
      "3\n",
      "4\n",
      "5\n",
      "6\n",
      "krunal\n"
     ]
    }
   ],
   "source": [
    "## variable length arguments\n",
    "## positional and keywords arguments\n",
    "\n",
    "def print_numbers(*args):\n",
    "    for number in args:\n",
    "        print(number)\n",
    "        \n",
    "print_numbers(1,2,3,4,5,6,\"krunal\")"
   ]
  }
 ],
 "metadata": {
  "kernelspec": {
   "display_name": "Python 3.13.0 64-bit",
   "language": "python",
   "name": "python3"
  },
  "language_info": {
   "codemirror_mode": {
    "name": "ipython",
    "version": 3
   },
   "file_extension": ".py",
   "mimetype": "text/x-python",
   "name": "python",
   "nbconvert_exporter": "python",
   "pygments_lexer": "ipython3",
   "version": "3.13.0"
  },
  "orig_nbformat": 4,
  "vscode": {
   "interpreter": {
    "hash": "0ea5e45daf1c78d10eefb726a7327dd84fdde05ffcbb11896673045ecf37d06d"
   }
  }
 },
 "nbformat": 4,
 "nbformat_minor": 2
}
