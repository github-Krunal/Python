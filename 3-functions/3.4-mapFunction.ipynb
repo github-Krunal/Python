{
 "cells": [
  {
   "cell_type": "code",
   "execution_count": 1,
   "metadata": {},
   "outputs": [
    {
     "name": "stdout",
     "output_type": "stream",
     "text": [
      "[1, 2, 3]\n"
     ]
    }
   ],
   "source": [
    "## map to convert list string\n",
    "string_numbers=[\"1\",\"2\",\"3\"]\n",
    "int_numbers=list(map(int,string_numbers))\n",
    "print(int_numbers)"
   ]
  },
  {
   "cell_type": "code",
   "execution_count": 2,
   "metadata": {},
   "outputs": [
    {
     "name": "stdout",
     "output_type": "stream",
     "text": [
      "['APPLE', 'BANANNA']\n"
     ]
    }
   ],
   "source": [
    "##convert to upper string\n",
    "words=[\"apple\",\"bananna\"]\n",
    "upp_string=list(map(str.upper,words))\n",
    "print(upp_string)"
   ]
  },
  {
   "cell_type": "code",
   "execution_count": 3,
   "metadata": {},
   "outputs": [
    {
     "name": "stdout",
     "output_type": "stream",
     "text": [
      "['krunal', 'krunal22']\n"
     ]
    }
   ],
   "source": [
    "## get name\n",
    "\n",
    "def get_name(person):\n",
    "    return person['name']\n",
    "\n",
    "person=[\n",
    "    {\n",
    "        \"name\":\"krunal\",\n",
    "        \"age\":10\n",
    "    },\n",
    "     {\n",
    "        \"name\":\"krunal22\",\n",
    "        \"age\":101\n",
    "    }\n",
    "]\n",
    "\n",
    "print(list(map(get_name,person)))"
   ]
  }
 ],
 "metadata": {
  "kernelspec": {
   "display_name": "Python 3.13.0 64-bit",
   "language": "python",
   "name": "python3"
  },
  "language_info": {
   "codemirror_mode": {
    "name": "ipython",
    "version": 3
   },
   "file_extension": ".py",
   "mimetype": "text/x-python",
   "name": "python",
   "nbconvert_exporter": "python",
   "pygments_lexer": "ipython3",
   "version": "3.13.0"
  },
  "orig_nbformat": 4,
  "vscode": {
   "interpreter": {
    "hash": "0ea5e45daf1c78d10eefb726a7327dd84fdde05ffcbb11896673045ecf37d06d"
   }
  }
 },
 "nbformat": 4,
 "nbformat_minor": 2
}
