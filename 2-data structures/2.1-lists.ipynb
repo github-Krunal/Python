{
 "cells": [
  {
   "cell_type": "code",
   "execution_count": 1,
   "metadata": {},
   "outputs": [
    {
     "name": "stdout",
     "output_type": "stream",
     "text": [
      "['krunal', True, 1, 2.02]\n"
     ]
    }
   ],
   "source": [
    "list=[\"krunal\",True,1,2.02]\n",
    "print(list)"
   ]
  },
  {
   "cell_type": "code",
   "execution_count": 6,
   "metadata": {},
   "outputs": [
    {
     "name": "stdout",
     "output_type": "stream",
     "text": [
      "apple\n",
      "cherry\n",
      "gauva\n",
      "gauva\n",
      "['bannana', 'cherry', 'kiwi', 'gauva']\n"
     ]
    }
   ],
   "source": [
    "## accessing the list of elements\n",
    "fruites=[\"apple\",\"bannana\",\"cherry\",\"kiwi\",\"gauva\"]\n",
    "print(fruites[0])\n",
    "print(fruites[2])\n",
    "print(fruites[4])\n",
    "print(fruites[-1])\n"
   ]
  },
  {
   "cell_type": "code",
   "execution_count": 11,
   "metadata": {},
   "outputs": [
    {
     "name": "stdout",
     "output_type": "stream",
     "text": [
      "['bannana', 'cherry', 'kiwi', 'gauva']\n",
      "['bannana', 'cherry']\n",
      "[]\n",
      "kiwi\n"
     ]
    }
   ],
   "source": [
    "print(fruites[1:])\n",
    "print(fruites[1:3])\n",
    "print(fruites[-1:2])\n",
    "print(fruites[-1:-3])"
   ]
  },
  {
   "cell_type": "code",
   "execution_count": 14,
   "metadata": {},
   "outputs": [
    {
     "name": "stdout",
     "output_type": "stream",
     "text": [
      "['apple', 'Watermelon', 'cherry', 'kiwi', 'gauva']\n"
     ]
    }
   ],
   "source": [
    "## modify the list elements\n",
    "fruites[1]=\"Watermelon\"\n",
    "fruites[0]=\"apple\"\n",
    "print(fruites)"
   ]
  },
  {
   "cell_type": "code",
   "execution_count": 15,
   "metadata": {},
   "outputs": [
    {
     "name": "stdout",
     "output_type": "stream",
     "text": [
      "['apple', 'Watermelon', 'cherry', 'kiwi', 'gauva', 'orange']\n"
     ]
    }
   ],
   "source": [
    "## add item in list\n",
    "fruites.append(\"orange\")\n",
    "print(fruites)"
   ]
  },
  {
   "cell_type": "code",
   "execution_count": 16,
   "metadata": {},
   "outputs": [
    {
     "name": "stdout",
     "output_type": "stream",
     "text": [
      "['apple', 'banana', 'Watermelon', 'cherry', 'kiwi', 'gauva', 'orange']\n"
     ]
    }
   ],
   "source": [
    "fruites.insert(1,\"banana\")\n",
    "print(fruites)"
   ]
  },
  {
   "cell_type": "code",
   "execution_count": 17,
   "metadata": {},
   "outputs": [
    {
     "name": "stdout",
     "output_type": "stream",
     "text": [
      "orange\n"
     ]
    }
   ],
   "source": [
    "## remove and print fruits\n",
    "remove_fruites=fruites.pop()\n",
    "print(remove_fruites)"
   ]
  },
  {
   "cell_type": "code",
   "execution_count": 18,
   "metadata": {},
   "outputs": [
    {
     "name": "stdout",
     "output_type": "stream",
     "text": [
      "3\n"
     ]
    }
   ],
   "source": [
    "## index of fruites\n",
    "index=fruites.index(\"cherry\")\n",
    "print(index)"
   ]
  },
  {
   "cell_type": "code",
   "execution_count": 21,
   "metadata": {},
   "outputs": [
    {
     "name": "stdout",
     "output_type": "stream",
     "text": [
      "4\n",
      "None\n",
      "['Watermelon', 'apple', 'banana', 'banana', 'banana', 'banana', 'cherry', 'gauva', 'kiwi']\n"
     ]
    }
   ],
   "source": [
    "fruites.insert(1,\"banana\")\n",
    "print(fruites.count(\"banana\"))\n",
    "print(fruites.sort())\n",
    "print(fruites)"
   ]
  },
  {
   "cell_type": "code",
   "execution_count": 26,
   "metadata": {},
   "outputs": [],
   "source": [
    "fruites.remove(\"banana\")"
   ]
  },
  {
   "cell_type": "code",
   "execution_count": 32,
   "metadata": {},
   "outputs": [
    {
     "name": "stdout",
     "output_type": "stream",
     "text": [
      "['Watermelon', 'apple', 'banana', 'cherry', 'gauva', 'kiwi']\n",
      "['kiwi', 'gauva', 'cherry', 'banana', 'apple', 'Watermelon']\n"
     ]
    }
   ],
   "source": [
    "fruites.sort()\n",
    "print(fruites)\n",
    "fruites.reverse()\n",
    "print(fruites)"
   ]
  }
 ],
 "metadata": {
  "kernelspec": {
   "display_name": "Python 3.13.0 64-bit",
   "language": "python",
   "name": "python3"
  },
  "language_info": {
   "codemirror_mode": {
    "name": "ipython",
    "version": 3
   },
   "file_extension": ".py",
   "mimetype": "text/x-python",
   "name": "python",
   "nbconvert_exporter": "python",
   "pygments_lexer": "ipython3",
   "version": "3.13.0"
  },
  "orig_nbformat": 4,
  "vscode": {
   "interpreter": {
    "hash": "0ea5e45daf1c78d10eefb726a7327dd84fdde05ffcbb11896673045ecf37d06d"
   }
  }
 },
 "nbformat": 4,
 "nbformat_minor": 2
}
