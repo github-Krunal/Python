{
 "cells": [
  {
   "cell_type": "code",
   "execution_count": 2,
   "metadata": {},
   "outputs": [
    {
     "name": "stdout",
     "output_type": "stream",
     "text": [
      "<class 'dict'>\n"
     ]
    }
   ],
   "source": [
    "## creating dictionaries\n",
    "\n",
    "empty_dict={}\n",
    "print(type(empty_dict))"
   ]
  },
  {
   "cell_type": "code",
   "execution_count": 3,
   "metadata": {},
   "outputs": [
    {
     "name": "stdout",
     "output_type": "stream",
     "text": [
      "{'name': 'krunal', 'age': 30, 'grade': 24}\n"
     ]
    }
   ],
   "source": [
    "student={\"name\":\"krunal\",\"age\":30,\"grade\":24}\n",
    "print(student)"
   ]
  },
  {
   "cell_type": "code",
   "execution_count": 4,
   "metadata": {},
   "outputs": [
    {
     "name": "stdout",
     "output_type": "stream",
     "text": [
      "{'name': 24, 'age': 30}\n"
     ]
    }
   ],
   "source": [
    "## single key always use\n",
    "student={\"name\":\"krunal\",\"age\":30,\"name\":24}\n",
    "print(student)"
   ]
  },
  {
   "cell_type": "code",
   "execution_count": 7,
   "metadata": {},
   "outputs": [
    {
     "name": "stdout",
     "output_type": "stream",
     "text": [
      "A\n",
      "30\n"
     ]
    }
   ],
   "source": [
    "## accessing the dictionaries element\n",
    "student={\"name\":\"krunal\",\"age\":30,\"grade\":\"A\"}\n",
    "print(student[\"grade\"])\n",
    "print(student[\"age\"])\n"
   ]
  },
  {
   "cell_type": "code",
   "execution_count": 10,
   "metadata": {},
   "outputs": [
    {
     "name": "stdout",
     "output_type": "stream",
     "text": [
      "A\n",
      "krunal\n",
      "not available\n"
     ]
    }
   ],
   "source": [
    "## accessing with get() method\n",
    "print(student.get('grade'))\n",
    "print(student.get('name'))\n",
    "print(student.get('last_name','not available'))\n"
   ]
  },
  {
   "cell_type": "code",
   "execution_count": 7,
   "metadata": {},
   "outputs": [
    {
     "name": "stdout",
     "output_type": "stream",
     "text": [
      "{'name': 'krunal', 'age': 30, 'grade': 'A'}\n",
      "{'name': 'krunal', 'age': 33, 'grade': 'A'}\n",
      "{'name': 'krunal', 'age': 33, 'grade': 'A', 'address': 'India'}\n",
      "{'name': 'krunal', 'age': 33, 'address': 'India'}\n"
     ]
    }
   ],
   "source": [
    "## modify dictionary element\n",
    "## Dictionary is mutable, it can update delete and add elements\n",
    "student={\"name\":\"krunal\",\"age\":30,\"grade\":\"A\"}\n",
    "print(student)\n",
    "student[\"age\"]=33\n",
    "print(student)\n",
    "student[\"address\"]='India'\n",
    "print(student)\n",
    "del student[\"grade\"]\n",
    "print(student)"
   ]
  },
  {
   "cell_type": "code",
   "execution_count": 9,
   "metadata": {},
   "outputs": [
    {
     "name": "stdout",
     "output_type": "stream",
     "text": [
      "dict_keys(['name', 'age', 'address'])\n",
      "dict_values(['krunal', 33, 'India'])\n",
      "dict_items([('name', 'krunal'), ('age', 33), ('address', 'India')])\n"
     ]
    }
   ],
   "source": [
    "## dictionaries method\n",
    "keys=student.keys() ## get all keys\n",
    "print(keys)\n",
    "values=student.values() ## get all values\n",
    "print(values)\n",
    "items=student.items()\n",
    "print(items)\n"
   ]
  },
  {
   "cell_type": "code",
   "execution_count": 2,
   "metadata": {},
   "outputs": [
    {
     "name": "stdout",
     "output_type": "stream",
     "text": [
      "name\n",
      "age\n",
      "grade\n"
     ]
    }
   ],
   "source": [
    "## Iterating over dictionaries\n",
    "\n",
    "## Iterating over keys\n",
    "student={\"name\":\"krunal\",\"age\":30,\"grade\":\"A\"}\n",
    "for key in student.keys():\n",
    "    print(key)"
   ]
  },
  {
   "cell_type": "code",
   "execution_count": 3,
   "metadata": {},
   "outputs": [
    {
     "name": "stdout",
     "output_type": "stream",
     "text": [
      "krunal\n",
      "30\n",
      "A\n"
     ]
    }
   ],
   "source": [
    "## Iterating over values\n",
    "student={\"name\":\"krunal\",\"age\":30,\"grade\":\"A\"}\n",
    "for value in student.values():\n",
    "    print(value)"
   ]
  },
  {
   "cell_type": "code",
   "execution_count": 4,
   "metadata": {},
   "outputs": [
    {
     "name": "stdout",
     "output_type": "stream",
     "text": [
      "name:krunal\n",
      "age:30\n",
      "grade:A\n"
     ]
    }
   ],
   "source": [
    "## Iterating over key value pairs\n",
    "student={\"name\":\"krunal\",\"age\":30,\"grade\":\"A\"}\n",
    "for key,value in student.items():\n",
    "    print(f\"{key}:{value}\")"
   ]
  },
  {
   "cell_type": "code",
   "execution_count": 5,
   "metadata": {},
   "outputs": [
    {
     "name": "stdout",
     "output_type": "stream",
     "text": [
      "{'student1': {'name': 'Batman', 'age': '32'}, 'student2': {'name': 'Spiderman', 'age': '35'}}\n"
     ]
    }
   ],
   "source": [
    "## nested dictionaries\n",
    "students={\n",
    "    \"student1\":{\n",
    "        \"name\":\"Batman\",\n",
    "        \"age\":\"32\"\n",
    "    },\n",
    "     \"student2\":{\n",
    "        \"name\":\"Spiderman\",\n",
    "        \"age\":\"35\"\n",
    "    }\n",
    "}\n",
    "print(students)"
   ]
  },
  {
   "cell_type": "code",
   "execution_count": 6,
   "metadata": {},
   "outputs": [
    {
     "name": "stdout",
     "output_type": "stream",
     "text": [
      "Spiderman\n",
      "35\n"
     ]
    }
   ],
   "source": [
    "## access nested dictionaries\n",
    "students={\n",
    "    \"student1\":{\n",
    "        \"name\":\"Batman\",\n",
    "        \"age\":\"32\"\n",
    "    },\n",
    "     \"student2\":{\n",
    "        \"name\":\"Spiderman\",\n",
    "        \"age\":\"35\"\n",
    "    }\n",
    "}\n",
    "print(students[\"student2\"][\"name\"])\n",
    "print(students[\"student2\"][\"age\"])"
   ]
  },
  {
   "cell_type": "code",
   "execution_count": 2,
   "metadata": {},
   "outputs": [
    {
     "name": "stdout",
     "output_type": "stream",
     "text": [
      "student1:{'name': 'Batman', 'age': '32'}\n",
      "name:Batman\n",
      "age:32\n",
      "student2:{'name': 'Spiderman', 'age': '35'}\n",
      "name:Spiderman\n",
      "age:35\n"
     ]
    }
   ],
   "source": [
    "## iterating over nested dictionaries\n",
    "students={\n",
    "    \"student1\":{\n",
    "        \"name\":\"Batman\",\n",
    "        \"age\":\"32\"\n",
    "    },\n",
    "     \"student2\":{\n",
    "        \"name\":\"Spiderman\",\n",
    "        \"age\":\"35\"\n",
    "    }\n",
    "}\n",
    "\n",
    "for id,info in students.items():\n",
    "    print(f'{id}:{info}')\n",
    "    for key,value in info.items():\n",
    "        print(f'{key}:{value}')\n"
   ]
  },
  {
   "cell_type": "code",
   "execution_count": 4,
   "metadata": {},
   "outputs": [
    {
     "name": "stdout",
     "output_type": "stream",
     "text": [
      "{0: 0, 1: 2, 2: 4, 3: 6, 4: 8}\n"
     ]
    }
   ],
   "source": [
    "## dictionary comprehension\n",
    "squares={x:x*2 for x in range(5)}\n",
    "print(squares)"
   ]
  },
  {
   "cell_type": "code",
   "execution_count": 5,
   "metadata": {},
   "outputs": [
    {
     "name": "stdout",
     "output_type": "stream",
     "text": [
      "{0: 0, 2: 4, 4: 8, 6: 12, 8: 16}\n"
     ]
    }
   ],
   "source": [
    "## condition dictionary comprehension\n",
    "evens={x:x*2 for x in range(10) if x%2==0}\n",
    "print(evens)"
   ]
  },
  {
   "cell_type": "code",
   "execution_count": 7,
   "metadata": {},
   "outputs": [
    {
     "name": "stdout",
     "output_type": "stream",
     "text": [
      "{1: 1, 2: 2, 3: 3, 4: 2, 5: 3}\n"
     ]
    }
   ],
   "source": [
    "## use a dictonary to count the number\n",
    "\n",
    "numbers=[1,2,3,2,3,3,4,5,5,4,5]\n",
    "\n",
    "freuency={}\n",
    "for number in numbers:\n",
    "    if number in freuency:\n",
    "        freuency[number]+=1\n",
    "    else:\n",
    "        freuency[number]=1\n",
    "print(freuency)"
   ]
  },
  {
   "cell_type": "code",
   "execution_count": 9,
   "metadata": {},
   "outputs": [
    {
     "name": "stdout",
     "output_type": "stream",
     "text": [
      "{'a': 1, 'b': 3, 'c': 4}\n"
     ]
    }
   ],
   "source": [
    "## merge two dictonaries\n",
    "dict1={\"a\":1,\"b\":2}\n",
    "dict2={\"b\":3,\"c\":4}\n",
    "merged_dict={**dict1,**dict2}\n",
    "print(merged_dict)"
   ]
  }
 ],
 "metadata": {
  "kernelspec": {
   "display_name": "Python 3.13.0 64-bit",
   "language": "python",
   "name": "python3"
  },
  "language_info": {
   "codemirror_mode": {
    "name": "ipython",
    "version": 3
   },
   "file_extension": ".py",
   "mimetype": "text/x-python",
   "name": "python",
   "nbconvert_exporter": "python",
   "pygments_lexer": "ipython3",
   "version": "3.13.0"
  },
  "orig_nbformat": 4,
  "vscode": {
   "interpreter": {
    "hash": "0ea5e45daf1c78d10eefb726a7327dd84fdde05ffcbb11896673045ecf37d06d"
   }
  }
 },
 "nbformat": 4,
 "nbformat_minor": 2
}
